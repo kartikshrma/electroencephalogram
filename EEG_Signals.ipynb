{
  "nbformat": 4,
  "nbformat_minor": 0,
  "metadata": {
    "colab": {
      "provenance": [],
      "gpuType": "T4",
      "mount_file_id": "1LsvlTycX7obuOSOBMK179dzXE6zX1yne",
      "authorship_tag": "ABX9TyMCLjLQZS7sdiqSlDsRkUfh",
      "include_colab_link": true
    },
    "kernelspec": {
      "name": "python3",
      "display_name": "Python 3"
    },
    "language_info": {
      "name": "python"
    },
    "accelerator": "GPU"
  },
  "cells": [
    {
      "cell_type": "markdown",
      "metadata": {
        "id": "view-in-github",
        "colab_type": "text"
      },
      "source": [
        "<a href=\"https://colab.research.google.com/github/kartikshrma/electroencephalogram/blob/main/EEG_Signals.ipynb\" target=\"_parent\"><img src=\"https://colab.research.google.com/assets/colab-badge.svg\" alt=\"Open In Colab\"/></a>"
      ]
    },
    {
      "cell_type": "code",
      "execution_count": null,
      "metadata": {
        "colab": {
          "base_uri": "https://localhost:8080/"
        },
        "id": "l1iIYrVrIag0",
        "outputId": "860796f7-d34d-4c24-a055-db84af12adba"
      },
      "outputs": [
        {
          "output_type": "stream",
          "name": "stdout",
          "text": [
            "Requirement already satisfied: catboost in /usr/local/lib/python3.11/dist-packages (1.2.8)\n",
            "Requirement already satisfied: graphviz in /usr/local/lib/python3.11/dist-packages (from catboost) (0.21)\n",
            "Requirement already satisfied: matplotlib in /usr/local/lib/python3.11/dist-packages (from catboost) (3.10.0)\n",
            "Requirement already satisfied: numpy<3.0,>=1.16.0 in /usr/local/lib/python3.11/dist-packages (from catboost) (2.0.2)\n",
            "Requirement already satisfied: pandas>=0.24 in /usr/local/lib/python3.11/dist-packages (from catboost) (2.2.2)\n",
            "Requirement already satisfied: scipy in /usr/local/lib/python3.11/dist-packages (from catboost) (1.15.3)\n",
            "Requirement already satisfied: plotly in /usr/local/lib/python3.11/dist-packages (from catboost) (5.24.1)\n",
            "Requirement already satisfied: six in /usr/local/lib/python3.11/dist-packages (from catboost) (1.17.0)\n",
            "Requirement already satisfied: python-dateutil>=2.8.2 in /usr/local/lib/python3.11/dist-packages (from pandas>=0.24->catboost) (2.9.0.post0)\n",
            "Requirement already satisfied: pytz>=2020.1 in /usr/local/lib/python3.11/dist-packages (from pandas>=0.24->catboost) (2025.2)\n",
            "Requirement already satisfied: tzdata>=2022.7 in /usr/local/lib/python3.11/dist-packages (from pandas>=0.24->catboost) (2025.2)\n",
            "Requirement already satisfied: contourpy>=1.0.1 in /usr/local/lib/python3.11/dist-packages (from matplotlib->catboost) (1.3.2)\n",
            "Requirement already satisfied: cycler>=0.10 in /usr/local/lib/python3.11/dist-packages (from matplotlib->catboost) (0.12.1)\n",
            "Requirement already satisfied: fonttools>=4.22.0 in /usr/local/lib/python3.11/dist-packages (from matplotlib->catboost) (4.58.4)\n",
            "Requirement already satisfied: kiwisolver>=1.3.1 in /usr/local/lib/python3.11/dist-packages (from matplotlib->catboost) (1.4.8)\n",
            "Requirement already satisfied: packaging>=20.0 in /usr/local/lib/python3.11/dist-packages (from matplotlib->catboost) (24.2)\n",
            "Requirement already satisfied: pillow>=8 in /usr/local/lib/python3.11/dist-packages (from matplotlib->catboost) (11.2.1)\n",
            "Requirement already satisfied: pyparsing>=2.3.1 in /usr/local/lib/python3.11/dist-packages (from matplotlib->catboost) (3.2.3)\n",
            "Requirement already satisfied: tenacity>=6.2.0 in /usr/local/lib/python3.11/dist-packages (from plotly->catboost) (9.1.2)\n",
            "Requirement already satisfied: kaggle in /usr/local/lib/python3.11/dist-packages (1.7.4.5)\n",
            "Requirement already satisfied: bleach in /usr/local/lib/python3.11/dist-packages (from kaggle) (6.2.0)\n",
            "Requirement already satisfied: certifi>=14.05.14 in /usr/local/lib/python3.11/dist-packages (from kaggle) (2025.6.15)\n",
            "Requirement already satisfied: charset-normalizer in /usr/local/lib/python3.11/dist-packages (from kaggle) (3.4.2)\n",
            "Requirement already satisfied: idna in /usr/local/lib/python3.11/dist-packages (from kaggle) (3.10)\n",
            "Requirement already satisfied: protobuf in /usr/local/lib/python3.11/dist-packages (from kaggle) (5.29.5)\n",
            "Requirement already satisfied: python-dateutil>=2.5.3 in /usr/local/lib/python3.11/dist-packages (from kaggle) (2.9.0.post0)\n",
            "Requirement already satisfied: python-slugify in /usr/local/lib/python3.11/dist-packages (from kaggle) (8.0.4)\n",
            "Requirement already satisfied: requests in /usr/local/lib/python3.11/dist-packages (from kaggle) (2.32.3)\n",
            "Requirement already satisfied: setuptools>=21.0.0 in /usr/local/lib/python3.11/dist-packages (from kaggle) (75.2.0)\n",
            "Requirement already satisfied: six>=1.10 in /usr/local/lib/python3.11/dist-packages (from kaggle) (1.17.0)\n",
            "Requirement already satisfied: text-unidecode in /usr/local/lib/python3.11/dist-packages (from kaggle) (1.3)\n",
            "Requirement already satisfied: tqdm in /usr/local/lib/python3.11/dist-packages (from kaggle) (4.67.1)\n",
            "Requirement already satisfied: urllib3>=1.15.1 in /usr/local/lib/python3.11/dist-packages (from kaggle) (2.4.0)\n",
            "Requirement already satisfied: webencodings in /usr/local/lib/python3.11/dist-packages (from kaggle) (0.5.1)\n"
          ]
        }
      ],
      "source": [
        "!pip install catboost\n",
        "!pip install kaggle"
      ]
    },
    {
      "cell_type": "code",
      "source": [
        "!mkdir -p ~/.kaggle\n",
        "!mv kaggle.json ~/.kaggle/\n",
        "!chmod 600 ~/.kaggle/kaggle.json"
      ],
      "metadata": {
        "id": "YaEeF0fbIygX",
        "colab": {
          "base_uri": "https://localhost:8080/"
        },
        "outputId": "8d82734b-fad7-4e6d-f877-d257cc8eb76f"
      },
      "execution_count": null,
      "outputs": [
        {
          "output_type": "stream",
          "name": "stdout",
          "text": [
            "mv: cannot stat 'kaggle.json': No such file or directory\n",
            "chmod: cannot access '/root/.kaggle/kaggle.json': No such file or directory\n"
          ]
        }
      ]
    },
    {
      "cell_type": "code",
      "source": [
        "!kaggle datasets download -d youssefkead/liewaves-truth-lie"
      ],
      "metadata": {
        "colab": {
          "base_uri": "https://localhost:8080/"
        },
        "id": "xDdOLJOSJAw7",
        "outputId": "3e724190-ab77-4e3e-8f3f-02983686d461"
      },
      "execution_count": null,
      "outputs": [
        {
          "output_type": "stream",
          "name": "stdout",
          "text": [
            "Traceback (most recent call last):\n",
            "  File \"/usr/local/bin/kaggle\", line 10, in <module>\n",
            "    sys.exit(main())\n",
            "             ^^^^^^\n",
            "  File \"/usr/local/lib/python3.11/dist-packages/kaggle/cli.py\", line 68, in main\n",
            "    out = args.func(**command_args)\n",
            "          ^^^^^^^^^^^^^^^^^^^^^^^^^\n",
            "  File \"/usr/local/lib/python3.11/dist-packages/kaggle/api/kaggle_api_extended.py\", line 1741, in dataset_download_cli\n",
            "    with self.build_kaggle_client() as kaggle:\n",
            "         ^^^^^^^^^^^^^^^^^^^^^^^^^^\n",
            "  File \"/usr/local/lib/python3.11/dist-packages/kaggle/api/kaggle_api_extended.py\", line 688, in build_kaggle_client\n",
            "    username=self.config_values['username'],\n",
            "             ~~~~~~~~~~~~~~~~~~^^^^^^^^^^^^\n",
            "KeyError: 'username'\n"
          ]
        }
      ]
    },
    {
      "cell_type": "code",
      "source": [
        "!unzip liewaves-truth-lie.zip"
      ],
      "metadata": {
        "colab": {
          "base_uri": "https://localhost:8080/"
        },
        "id": "8W-QbJLYJHI7",
        "outputId": "2d9dbd88-9d53-4a07-f2dd-15649a940b66"
      },
      "execution_count": null,
      "outputs": [
        {
          "output_type": "stream",
          "name": "stdout",
          "text": [
            "unzip:  cannot find or open liewaves-truth-lie.zip, liewaves-truth-lie.zip.zip or liewaves-truth-lie.zip.ZIP.\n"
          ]
        }
      ]
    },
    {
      "cell_type": "code",
      "source": [
        "%ls"
      ],
      "metadata": {
        "colab": {
          "base_uri": "https://localhost:8080/"
        },
        "id": "2KKuwiF3kRuV",
        "outputId": "fa46f773-b1b4-4bac-80df-468fae6293a0"
      },
      "execution_count": null,
      "outputs": [
        {
          "output_type": "stream",
          "name": "stdout",
          "text": [
            "\u001b[0m\u001b[01;34mdrive\u001b[0m/  \u001b[01;34msample_data\u001b[0m/\n"
          ]
        }
      ]
    },
    {
      "cell_type": "code",
      "source": [
        "!ls Lie_Sessions/\n",
        "!ls Truth_Sessions/"
      ],
      "metadata": {
        "colab": {
          "base_uri": "https://localhost:8080/"
        },
        "id": "peVDeTKAAeXn",
        "outputId": "8b039576-f64a-4188-dbfe-357564bd0977"
      },
      "execution_count": null,
      "outputs": [
        {
          "output_type": "stream",
          "name": "stdout",
          "text": [
            "ls: cannot access 'Lie_Sessions/': No such file or directory\n",
            "ls: cannot access 'Truth_Sessions/': No such file or directory\n"
          ]
        }
      ]
    },
    {
      "cell_type": "code",
      "source": [
        "import pandas as pd\n",
        "import numpy as np\n",
        "import warnings"
      ],
      "metadata": {
        "id": "Bm24y4KKknos"
      },
      "execution_count": null,
      "outputs": []
    },
    {
      "cell_type": "code",
      "source": [
        "from sklearn.model_selection import train_test_split, GridSearchCV, RandomizedSearchCV\n",
        "from sklearn.metrics import accuracy_score, confusion_matrix, classification_report, f1_score"
      ],
      "metadata": {
        "id": "zpYz5ATNktjX"
      },
      "execution_count": null,
      "outputs": []
    },
    {
      "cell_type": "code",
      "source": [
        "from sklearn import svm\n",
        "from sklearn.linear_model import LogisticRegression\n",
        "from sklearn.neighbors import KNeighborsClassifier\n",
        "from sklearn.tree import DecisionTreeClassifier\n",
        "from sklearn.ensemble import RandomForestClassifier\n",
        "from sklearn.ensemble import GradientBoostingClassifier\n",
        "import xgboost as xgb"
      ],
      "metadata": {
        "id": "7uZaDioFkyXS"
      },
      "execution_count": null,
      "outputs": []
    },
    {
      "cell_type": "code",
      "source": [
        "import seaborn as sns\n",
        "import matplotlib.pyplot as plt"
      ],
      "metadata": {
        "id": "PYbmXUAuk0du"
      },
      "execution_count": null,
      "outputs": []
    },
    {
      "cell_type": "markdown",
      "source": [
        "# **Confusion Matrix**"
      ],
      "metadata": {
        "id": "jbNHLl1Uk7r4"
      }
    },
    {
      "cell_type": "code",
      "source": [
        "import numpy as np\n",
        "def confusionMatrix(cf_matrix):\n",
        "  group_names = ['True Neg','False Pos','False Neg','True Pos']\n",
        "  group_counts = ['{0:0.0f}'.format(value) for value in\n",
        "                  cf_matrix.flatten()]\n",
        "  group_percentages = ['{0:.2%}'.format(value) for value in cf_matrix.flatten()/np.sum(cf_matrix)]\n",
        "  labels = [f'{v1}\\n{v2}\\n{v3}' for v1, v2, v3 in\n",
        "            zip(group_names,group_counts,group_percentages)]\n",
        "  labels = np.asarray(labels).reshape(2,2)\n",
        "  sns.set(rc={'figure.figsize':(6,3)})\n",
        "  sns.heatmap(cf_matrix, annot=labels, fmt='', cmap='Blues')\n",
        "\n",
        "# sample matrix\n",
        "sample_cf_matrix = np.array([[100, 50], [20, 30]])\n",
        "confusionMatrix(sample_cf_matrix)"
      ],
      "metadata": {
        "colab": {
          "base_uri": "https://localhost:8080/",
          "height": 302
        },
        "id": "FffmnMC0k_5R",
        "outputId": "82f0f1f1-281d-4f07-adb8-dd45ba817e36"
      },
      "execution_count": null,
      "outputs": [
        {
          "output_type": "display_data",
          "data": {
            "text/plain": [
              "<Figure size 600x300 with 2 Axes>"
            ],
            "image/png": "[encoded data removed]"
          },
          "metadata": {}
        }
      ]
    },
    {
      "cell_type": "markdown",
      "source": [
        "# **User Model**"
      ],
      "metadata": {
        "id": "YGjf6zlhlnIc"
      }
    },
    {
      "cell_type": "code",
      "source": [
        "from sklearn.model_selection import train_test_split\n",
        "from sklearn.metrics import accuracy_score, f1_score, confusion_matrix, classification_report\n",
        "\n",
        "def userModel(classifier):\n",
        "    # Train the classifier\n",
        "    classifier.fit(df_trainX, df_trainY)\n",
        "\n",
        "    # Make predictions on the test set\n",
        "    pred_test = classifier.predict(df_testX)\n",
        "\n",
        "    # Evaluate the model\n",
        "    getVotingClassifierMetrics(df_testY, pred_test)"
      ],
      "metadata": {
        "id": "d2oGnknzvu0s"
      },
      "execution_count": null,
      "outputs": []
    },
    {
      "cell_type": "code",
      "source": [
        "def getVotingClassifierMetrics(df_testY, pred_test):\n",
        "  confMatrix = confusion_matrix(df_testY, pred_test)\n",
        "  acc_test = accuracy_score(df_testY, pred_test)\n",
        "  f_measure_test = f1_score(df_testY, pred_test)\n",
        "  cf = confusion_matrix(df_testY, pred_test)\n",
        "  tn, fp, fn, tp = cf[0][0], cf[0][1], cf[1][0], cf[1][1]\n",
        "  sensitivity_test = tp / float(tp+fn)\n",
        "  specificity_test = tn / float(tn+fp)\n",
        "\n",
        "  print('Accuracy:', acc_test)\n",
        "  print('f-measure:', f_measure_test)\n",
        "  print('Sensitivity:', sensitivity_test)\n",
        "  print('Specificity:', specificity_test)\n",
        "\n",
        "  print(classification_report(df_testY, pred_test))\n",
        "  confusionMatrix(cf)\n",
        "\n",
        "  return acc_test, f_measure_test, sensitivity_test, specificity_test"
      ],
      "metadata": {
        "id": "7z6F_xSmlYDA"
      },
      "execution_count": null,
      "outputs": []
    },
    {
      "cell_type": "code",
      "source": [
        "def getVotingClassifierMetrics(df_testY, pred_test):\n",
        "  confMatrix = confusion_matrix(df_testY, pred_test)\n",
        "  acc_test = accuracy_score(df_testY, pred_test)\n",
        "  f_measure_test = f1_score(df_testY, pred_test)\n",
        "  cf = confusion_matrix(df_testY, pred_test)\n",
        "  tn, fp, fn, tp = cf[0][0], cf[0][1], cf[1][0], cf[1][1]\n",
        "  sensitivity_test = tp / float(tp+fn)\n",
        "  specificity_test = tn / float(tn+fp)\n",
        "\n",
        "  print('Accuracy:', acc_test)\n",
        "  print('f-measure:', f_measure_test)\n",
        "  print('Sensitivity:', sensitivity_test)\n",
        "  print('Specificity:', specificity_test)\n",
        "\n",
        "  print(classification_report(df_testY, pred_test))\n",
        "  confusionMatrix(cf)\n",
        "\n",
        "  return acc_test, f_measure_test, sensitivity_test, specificity_test\n",
        "\n",
        "# sample data for demonstration\n",
        "sample_df_testY = [0, 1, 0, 1, 0, 1, 0, 1, 0, 1, 0, 1, 0, 1, 0, 1, 0, 1, 0, 1]\n",
        "sample_pred_test = [0, 0, 0, 1, 0, 1, 1, 1, 0, 1, 0, 0, 1, 1, 0, 1, 0, 0, 1, 1]\n",
        "\n",
        "# call the function with sample data\n",
        "getVotingClassifierMetrics(sample_df_testY, sample_pred_test)"
      ],
      "metadata": {
        "id": "e64TbZ3QluUe",
        "colab": {
          "base_uri": "https://localhost:8080/",
          "height": 545
        },
        "outputId": "b323a624-fa44-42e8-cc5b-8a7aa99e7dcb"
      },
      "execution_count": null,
      "outputs": [
        {
          "output_type": "stream",
          "name": "stdout",
          "text": [
            "Accuracy: 0.7\n",
            "f-measure: 0.7\n",
            "Sensitivity: 0.7\n",
            "Specificity: 0.7\n",
            "              precision    recall  f1-score   support\n",
            "\n",
            "           0       0.70      0.70      0.70        10\n",
            "           1       0.70      0.70      0.70        10\n",
            "\n",
            "    accuracy                           0.70        20\n",
            "   macro avg       0.70      0.70      0.70        20\n",
            "weighted avg       0.70      0.70      0.70        20\n",
            "\n"
          ]
        },
        {
          "output_type": "execute_result",
          "data": {
            "text/plain": [
              "(0.7, 0.7, np.float64(0.7), np.float64(0.7))"
            ]
          },
          "metadata": {},
          "execution_count": 14
        },
        {
          "output_type": "display_data",
          "data": {
            "text/plain": [
              "<Figure size 600x300 with 2 Axes>"
            ],
            "image/png": "[encoded data removed]"
          },
          "metadata": {}
        }
      ]
    },
    {
      "cell_type": "markdown",
      "source": [
        "# **Plots**\n",
        "**Plot for each Subject**"
      ],
      "metadata": {
        "id": "08gcwLD1ujUA"
      }
    },
    {
      "cell_type": "code",
      "source": [
        "import matplotlib.pyplot as plt\n",
        "import seaborn as sns\n",
        "\n",
        "def barPlot(accuracies, title, xname):\n",
        "  sns.set_style(style='white')\n",
        "  models = ['SVM', 'Logistic Regression', 'KNN', 'Decision Tree', 'Random Forest', 'Boosting Trees']\n",
        "  fig = plt.figure()\n",
        "  ax = fig.add_axes([0,0,1,1])\n",
        "  ax.set_title(title, size=17)\n",
        "  ax.set(ylim=(0, 1.1))\n",
        "  plots = sns.barplot(x=models, y=accuracies)\n",
        "  plt.xticks(rotation=45, horizontalalignment='right', fontweight='light', fontsize='x-large')\n",
        "  sns.set(rc={'figure.figsize':(11.7,8.27)})\n",
        "  for bar in plots.patches:\n",
        "    plots.annotate(format(bar.get_height(), '.2f'), (bar.get_x() + bar.get_width() / 2, bar.get_height()), ha='center', va='center', size=15, xytext=(0, 8),textcoords='offset points')\n",
        "  plt.ylabel(xname, size=15)\n",
        "  plt.xlabel('Models', size=15)\n",
        "  plt.show()\n",
        "\n",
        "# sample data with demonstration\n",
        "sample_accuracies = [0.85, 0.78, 0.91, 0.82, 0.88, 0.75]\n",
        "sample_title = \"Sample Model Accuracies\"\n",
        "sample_xname = \"Accuracy\"\n",
        "\n",
        "# function with sample data\n",
        "barPlot(sample_accuracies, sample_title, sample_xname)"
      ],
      "metadata": {
        "colab": {
          "base_uri": "https://localhost:8080/",
          "height": 582
        },
        "id": "sKuIYvJIuu5h",
        "outputId": "b8ed6638-c7c2-41f7-cec4-8e0f2221406b"
      },
      "execution_count": null,
      "outputs": [
        {
          "output_type": "display_data",
          "data": {
            "text/plain": [
              "<Figure size 600x300 with 1 Axes>"
            ],
            "image/png": "[encoded data removed]"
          },
          "metadata": {}
        }
      ]
    },
    {
      "cell_type": "markdown",
      "source": [
        "# Plot for best accuracy for each Subject"
      ],
      "metadata": {
        "id": "HA_PPAm218ZV"
      }
    },
    {
      "cell_type": "code",
      "source": [
        "def barPlotBestAccuracy(xVals, accuracies, title, xLabel):\n",
        "  fig = plt.figure()\n",
        "  sns.set(rc={'figure.figsize':(11.7,8.27)})\n",
        "  ax = fig.add_axes([0,0,1,1])\n",
        "  ax.set_title(title, size=17)\n",
        "  ax.set(ylim=(0, 1))\n",
        "  plots = sns.barplot(xVals, accuracies)\n",
        "  plt.xticks(rotation=45, horizontalalignment='right', fontweight='light', fontsize='x-large')\n",
        "  for bar in plots.patches:\n",
        "    plots.annotate(format(bar.get_height(), '.2f'),\n",
        "                    (bar.get_x() + bar.get_width() / 2,\n",
        "                      bar.get_height()), ha='center', va='center',\n",
        "                    size=15, xytext=(0, 8),\n",
        "                    textcoords='offset points')\n",
        "  plt.ylabel('Accuracy', size=15)\n",
        "  plt.xlabel(xLabel, size=15)\n",
        "  plt.show()"
      ],
      "metadata": {
        "id": "C7V7J6d56t1f"
      },
      "execution_count": null,
      "outputs": []
    },
    {
      "cell_type": "markdown",
      "source": [
        "# Get Dataset"
      ],
      "metadata": {
        "id": "0QiaCLEJ7PoB"
      }
    },
    {
      "cell_type": "code",
      "source": [
        "def getDataset(i):\n",
        "  train_str = 'Fold_' + str(i) + '_Train_Dataset.csv'\n",
        "  test_str = 'Fold_' + str(i) + '_Test_Dataset.csv'\n",
        "\n",
        "  df_train = pd.read_csv(train_str, header=None)\n",
        "  df_test = pd.read_csv(test_str, header=None)\n",
        "\n",
        "  return df_train, df_test"
      ],
      "metadata": {
        "id": "YI83VPxm7S3T"
      },
      "execution_count": null,
      "outputs": []
    },
    {
      "source": [
        "!ls Lie_Sessions/\n",
        "!ls Truth_Sessions/"
      ],
      "cell_type": "code",
      "metadata": {
        "colab": {
          "base_uri": "https://localhost:8080/"
        },
        "id": "aZbP0GxJAEZS",
        "outputId": "a8ba9eb5-549e-4a15-b23d-397d8171c7e0"
      },
      "execution_count": null,
      "outputs": [
        {
          "output_type": "stream",
          "name": "stdout",
          "text": [
            "ls: cannot access 'Lie_Sessions/': No such file or directory\n",
            "ls: cannot access 'Truth_Sessions/': No such file or directory\n"
          ]
        }
      ]
    },
    {
      "source": [
        "!ls Lie_Sessions/4_ATAR/\n",
        "!ls Lie_Sessions/Raw/"
      ],
      "cell_type": "code",
      "metadata": {
        "colab": {
          "base_uri": "https://localhost:8080/"
        },
        "id": "ezYA9b13B8-h",
        "outputId": "9f7f1d02-6ebf-4e0f-b4a9-f9d1d9b81979"
      },
      "execution_count": null,
      "outputs": [
        {
          "output_type": "stream",
          "name": "stdout",
          "text": [
            "ls: cannot access 'Lie_Sessions/4_ATAR/': No such file or directory\n",
            "ls: cannot access 'Lie_Sessions/Raw/': No such file or directory\n"
          ]
        }
      ]
    },
    {
      "cell_type": "code",
      "source": [
        "!ls Truth_Sessions/4_ATAR/\n",
        "!ls Truth_Sessions/Raw/"
      ],
      "metadata": {
        "colab": {
          "base_uri": "https://localhost:8080/"
        },
        "id": "o_Oguq9fAHcO",
        "outputId": "7f0dfd2b-1741-4d8c-89c9-18117e6a2292"
      },
      "execution_count": null,
      "outputs": [
        {
          "output_type": "stream",
          "name": "stdout",
          "text": [
            "ls: cannot access 'Truth_Sessions/4_ATAR/': No such file or directory\n",
            "ls: cannot access 'Truth_Sessions/Raw/': No such file or directory\n"
          ]
        }
      ]
    },
    {
      "cell_type": "code",
      "metadata": {
        "id": "yUrMAkXx7VKz"
      },
      "source": [
        "import pandas as pd\n",
        "import os\n",
        "\n",
        "def getDataset(directory_path, file_list):\n",
        "  \"\"\"\n",
        "  Loads and concatenates multiple CSV files from a directory into a single DataFrame.\n",
        "\n",
        "  Args:\n",
        "    directory_path: The path to the directory containing the CSV files.\n",
        "    file_list: A list of CSV filenames to load from the directory.\n",
        "\n",
        "  Returns:\n",
        "    A pandas DataFrame containing the concatenated data from the specified files.\n",
        "  \"\"\"\n",
        "  all_data = []\n",
        "  for file_name in file_list:\n",
        "    file_path = os.path.join(directory_path, file_name)\n",
        "    try:\n",
        "      # Assuming no header in the CSV files and handling potential errors\n",
        "      df = pd.read_csv(file_path, header=None)\n",
        "\n",
        "      # Attempt to convert all columns to numeric, coercing errors.\n",
        "      # This will turn non-numeric values into NaN.\n",
        "      for col in df.columns:\n",
        "          df[col] = pd.to_numeric(df[col], errors='coerce')\n",
        "\n",
        "      # Drop rows where any value is NaN (which includes rows that couldn't be converted)\n",
        "      df.dropna(inplace=True)\n",
        "\n",
        "      # If the DataFrame is not empty after cleaning, add it to the list\n",
        "      if not df.empty:\n",
        "          all_data.append(df)\n",
        "      else:\n",
        "          print(f\"Warning: No valid data found in file {file_path} after cleaning.\")\n",
        "\n",
        "    except FileNotFoundError:\n",
        "      print(f\"Error: File not found at {file_path}\")\n",
        "    except Exception as e:\n",
        "      print(f\"Error reading and processing file {file_path}: {e}\")\n",
        "\n",
        "  if all_data:\n",
        "    return pd.concat(all_data, ignore_index=True)\n",
        "  else:\n",
        "    return pd.DataFrame() # Return empty DataFrame if no files were loaded or had valid data"
      ],
      "execution_count": null,
      "outputs": []
    },
    {
      "cell_type": "code",
      "metadata": {
        "colab": {
          "base_uri": "https://localhost:8080/",
          "height": 211
        },
        "id": "b1170d5a",
        "outputId": "bbdda85a-0eaa-4a1e-e208-5ab71bfbadb3"
      },
      "source": [
        "import os\n",
        "\n",
        "# Example usage (you will need to replace with your actual directory if needed)\n",
        "# For example, to load all files from Lie_Sessions/4_ATAR/\n",
        "lie_4atar_path = 'Lie_Sessions/4_ATAR/'\n",
        "\n",
        "# Get a list of all files in the directory that end with .csv\n",
        "lie_4atar_files = [f for f in os.listdir(lie_4atar_path) if f.endswith('.csv')]\n",
        "\n",
        "# Load the data using the getDataset function\n",
        "lie_4atar_df = getDataset(lie_4atar_path, lie_4atar_files)\n",
        "\n",
        "# Display all rows and columns of the loaded DataFrame\n",
        "print(f\"Loaded {len(lie_4atar_files)} files from {lie_4atar_path}\")\n",
        "display(lie_4atar_df)"
      ],
      "execution_count": null,
      "outputs": [
        {
          "output_type": "error",
          "ename": "FileNotFoundError",
          "evalue": "[Errno 2] No such file or directory: 'Lie_Sessions/4_ATAR/'",
          "traceback": [
            "\u001b[0;31m---------------------------------------------------------------------------\u001b[0m",
            "\u001b[0;31mFileNotFoundError\u001b[0m                         Traceback (most recent call last)",
            "\u001b[0;32m/tmp/ipython-input-22-3645084126.py\u001b[0m in \u001b[0;36m<cell line: 0>\u001b[0;34m()\u001b[0m\n\u001b[1;32m      6\u001b[0m \u001b[0;34m\u001b[0m\u001b[0m\n\u001b[1;32m      7\u001b[0m \u001b[0;31m# Get a list of all files in the directory that end with .csv\u001b[0m\u001b[0;34m\u001b[0m\u001b[0;34m\u001b[0m\u001b[0m\n\u001b[0;32m----> 8\u001b[0;31m \u001b[0mlie_4atar_files\u001b[0m \u001b[0;34m=\u001b[0m \u001b[0;34m[\u001b[0m\u001b[0mf\u001b[0m \u001b[0;32mfor\u001b[0m \u001b[0mf\u001b[0m \u001b[0;32min\u001b[0m \u001b[0mos\u001b[0m\u001b[0;34m.\u001b[0m\u001b[0mlistdir\u001b[0m\u001b[0;34m(\u001b[0m\u001b[0mlie_4atar_path\u001b[0m\u001b[0;34m)\u001b[0m \u001b[0;32mif\u001b[0m \u001b[0mf\u001b[0m\u001b[0;34m.\u001b[0m\u001b[0mendswith\u001b[0m\u001b[0;34m(\u001b[0m\u001b[0;34m'.csv'\u001b[0m\u001b[0;34m)\u001b[0m\u001b[0;34m]\u001b[0m\u001b[0;34m\u001b[0m\u001b[0;34m\u001b[0m\u001b[0m\n\u001b[0m\u001b[1;32m      9\u001b[0m \u001b[0;34m\u001b[0m\u001b[0m\n\u001b[1;32m     10\u001b[0m \u001b[0;31m# Load the data using the getDataset function\u001b[0m\u001b[0;34m\u001b[0m\u001b[0;34m\u001b[0m\u001b[0m\n",
            "\u001b[0;31mFileNotFoundError\u001b[0m: [Errno 2] No such file or directory: 'Lie_Sessions/4_ATAR/'"
          ]
        }
      ]
    },
    {
      "cell_type": "code",
      "source": [
        "import os\n",
        "\n",
        "truth_4atar_path = 'Truth_Sessions/4_ATAR/'\n",
        "#list of all files in the directory that end with .csv\n",
        "truth_4atar_files = [f for f in os.listdir(truth_4atar_path) if f.endswith('.csv')]\n",
        "# loading the data using the getDataset function\n",
        "truth_4atar_df = getDataset(truth_4atar_path, truth_4atar_files)\n",
        "# displaying the first few rows of the loaded DataFrame\n",
        "print(f\"Loaded {len(truth_4atar_files)} files from {truth_4atar_path}\")\n",
        "display(truth_4atar_df.head())"
      ],
      "metadata": {
        "id": "Zs3Crg-8XIzw"
      },
      "execution_count": null,
      "outputs": []
    },
    {
      "cell_type": "code",
      "source": [
        "import pandas as pd\n",
        "import os\n",
        "\n",
        "def perform_session_analysis(directory_path, file_list, session_type_label):\n",
        "  \"\"\"\n",
        "  Loads data for a session type (Truth or Lie), performs analysis\n",
        "  (e.g., classification) and returns results.\n",
        "\n",
        "  Args:\n",
        "    directory_path: The path to the directory containing the session CSV files.\n",
        "    file_list: A list of CSV filenames to load from the directory.\n",
        "    session_type_label: The label for the session type (e.g., 0 for Lie, 1 for Truth).\n",
        "\n",
        "  Returns:\n",
        "    A tuple containing the loaded DataFrame and potentially other analysis results.\n",
        "  \"\"\"\n",
        "  # Load the data using the getDataset function\n",
        "  session_df = getDataset(directory_path, file_list)\n",
        "\n",
        "  if session_df.empty:\n",
        "    print(f\"No data loaded for session type: {session_type_label}\")\n",
        "    return session_df, None # Return empty DataFrame and None for results\n",
        "\n",
        "  # Add a target column (label) to the DataFrame\n",
        "  session_df['target'] = session_type_label\n",
        "\n",
        "  print(f\"Loaded data for session type: {session_type_label}\")\n",
        "  print(f\"Shape of the loaded DataFrame: {session_df.shape}\")\n",
        "  # Use print instead of display to avoid automatic charting errors\n",
        "  print(session_df.head())\n",
        "\n",
        "  # Example: If you were doing classification, you'd split data, train a model, etc.\n",
        "  # This part is highly dependent on your specific analysis goals.\n",
        "  # For example:\n",
        "  # df_X = session_df.drop('target', axis=1)\n",
        "  # df_y = session_df['target']\n",
        "  # df_trainX, df_testX, df_trainY, df_testY = train_test_split(df_X, df_y, test_size=0.25, random_state=42)\n",
        "  #\n",
        "  # # Example of using userModel (you'd need to define or import a classifier instance)\n",
        "  # # classifier = LogisticRegression() # Example classifier\n",
        "  # # userModel(classifier)\n",
        "\n",
        "  return session_df, None # Return the DataFrame and any results (replace None with actual results)\n",
        "\n",
        "# Example usage for Truth Sessions (assuming 'Truth_Sessions/4_ATAR/' is the directory)\n",
        "truth_4atar_path = 'Truth_Sessions/4_ATAR/'\n",
        "\n",
        "# Get a list of all files in the directory that end with .csv\n",
        "truth_4atar_files = [f for f in os.listdir(truth_4atar_path) if f.endswith('.csv')]\n",
        "\n",
        "# Perform the session analysis for Truth sessions\n",
        "truth_4atar_df, truth_analysis_results = perform_session_analysis(truth_4atar_path, truth_4atar_files, 1) # 1 for Truth\n",
        "\n",
        "# You can now use truth_4atar_df for further analysis specific to truth sessions.\n",
        "# The truth_analysis_results would contain any metrics or outputs from the analysis function.\n",
        "\n",
        "# Example for Lie Sessions (assuming 'Lie_Sessions/4_ATAR/' is the directory)\n",
        "lie_4atar_path = 'Lie_Sessions/4_ATAR/'\n",
        "lie_4atar_files = [f for f in os.listdir(lie_4atar_path) if f.endswith('.csv')]\n",
        "lie_4atar_df, lie_analysis_results = perform_session_analysis(lie_4atar_path, lie_4atar_files, 0) # 0 for Lie"
      ],
      "metadata": {
        "id": "o18imhfeUIxi"
      },
      "execution_count": null,
      "outputs": []
    },
    {
      "cell_type": "markdown",
      "metadata": {
        "id": "f6b45968"
      },
      "source": [
        "# Task\n",
        "Modify the provided `createMasterTrainVal` function to work with the file structure and naming conventions of the \"4_ATAR\" directories within \"Lie_Sessions\" and \"Truth_Sessions\", using the previously defined `getDataset` function to load the data. The function should create training and validation datasets by combining data from the specified directories, excluding data from a specific index `ind` for validation."
      ]
    },
    {
      "cell_type": "markdown",
      "metadata": {
        "id": "455ee423"
      },
      "source": [
        "## Load and combine data\n",
        "\n",
        "### Subtask:\n",
        "Load the data from the \"4_ATAR\" directories for both Lie and Truth sessions using the modified `getDataset` function. Combine these two DataFrames into a single master DataFrame.\n"
      ]
    },
    {
      "cell_type": "markdown",
      "metadata": {
        "id": "069f78ef"
      },
      "source": [
        "**Reasoning**:\n",
        "Load the Lie and Truth session data from the \"4_ATAR\" directories, concatenate them into a single DataFrame, and display the head and shape of the combined DataFrame.\n",
        "\n"
      ]
    },
    {
      "cell_type": "code",
      "metadata": {
        "id": "5f0ecd85"
      },
      "source": [
        "import os\n",
        "\n",
        "# Define the base paths for the \"4_ATAR\" directories\n",
        "lie_4atar_path = 'Lie_Sessions/4_ATAR/'\n",
        "truth_4atar_path = 'Truth_Sessions/4_ATAR/'\n",
        "\n",
        "# Get a list of all files in each directory that end with .csv\n",
        "lie_4atar_files = [f for f in os.listdir(lie_4atar_path) if f.endswith('.csv')]\n",
        "truth_4atar_files = [f for f in os.listdir(truth_4atar_path) if f.endswith('.csv')]\n",
        "\n",
        "# Load the data using the getDataset function\n",
        "lie_4atar_df = getDataset(lie_4atar_path, lie_4atar_files)\n",
        "truth_4atar_df = getDataset(truth_4atar_path, truth_4atar_files)\n",
        "\n",
        "# Concatenate the two DataFrames\n",
        "master_df = pd.concat([lie_4atar_df, truth_4atar_df], ignore_index=True)\n",
        "\n",
        "# Display the head and shape of the combined DataFrame\n",
        "print(\"Combined DataFrame Head:\")\n",
        "display(master_df.head())\n",
        "print(\"\\nCombined DataFrame Shape:\")\n",
        "print(master_df.shape)"
      ],
      "execution_count": null,
      "outputs": []
    },
    {
      "cell_type": "markdown",
      "metadata": {
        "id": "fcb49285"
      },
      "source": [
        "**Reasoning**:\n",
        "The data from Lie and Truth sessions has been loaded and combined into a single master DataFrame. The next logical step is to add the 'target' column to the master DataFrame to distinguish between Lie (0) and Truth (1) sessions, which is necessary for the subsequent steps of creating training and validation datasets for classification.\n",
        "\n"
      ]
    },
    {
      "cell_type": "code",
      "metadata": {
        "id": "49ef5825"
      },
      "source": [
        "# Add the 'target' column to the master DataFrame\n",
        "# Assuming the first half of the master_df is from Lie sessions and the second half is from Truth sessions\n",
        "# based on the order of concatenation in the previous step.\n",
        "lie_count = len(lie_4atar_df)\n",
        "truth_count = len(truth_4atar_df)\n",
        "\n",
        "master_df['target'] = [0] * lie_count + [1] * truth_count\n",
        "\n",
        "# Display the head and tail of the master DataFrame to verify the target column\n",
        "print(\"Master DataFrame Head with Target:\")\n",
        "display(master_df.head())\n",
        "print(\"\\nMaster DataFrame Tail with Target:\")\n",
        "display(master_df.tail())\n",
        "print(\"\\nValue counts for the target column:\")\n",
        "print(master_df['target'].value_counts())"
      ],
      "execution_count": null,
      "outputs": []
    },
    {
      "cell_type": "markdown",
      "metadata": {
        "id": "ebcb3488"
      },
      "source": [
        "# Task\n",
        "Load and combine the data from the \"4_ATAR\" directories within \"Lie_Sessions\" and \"Truth_Sessions\", add a 'target' column (0 for Lie, 1 for Truth), remove the header row, separate features and labels, split the data into training and validation/testing sets, train and evaluate models using the `userModel` function, and visualize the results using `barPlot` or `barPlotBestAccuracy`."
      ]
    },
    {
      "cell_type": "markdown",
      "metadata": {
        "id": "08e7e1cc"
      },
      "source": [
        "## Load and combine data\n",
        "\n",
        "### Subtask:\n",
        "Load the data from the \"4_ATAR\" directories for both Lie and Truth sessions using the modified `getDataset` function. Combine these two DataFrames into a single master DataFrame."
      ]
    },
    {
      "cell_type": "markdown",
      "metadata": {
        "id": "d9e4ce0b"
      },
      "source": [
        "**Reasoning**:\n",
        "Load the Lie and Truth session data from the \"4_ATAR\" directories, concatenate them into a single DataFrame, and display the head and shape of the combined DataFrame."
      ]
    },
    {
      "cell_type": "code",
      "source": [
        "!ls -R"
      ],
      "metadata": {
        "id": "LgHliEeRt_N9"
      },
      "execution_count": null,
      "outputs": []
    },
    {
      "cell_type": "code",
      "metadata": {
        "id": "b422ff5b"
      },
      "source": [
        "import os\n",
        "import pandas as pd\n",
        "\n",
        "# Define the base paths for the \"4_ATAR\" directories using the correct path from ls output\n",
        "lie_4atar_path = 'drive/MyDrive/archive (5)/Lie_Sessions/4_ATAR/'\n",
        "truth_4atar_path = 'drive/MyDrive/archive (5)/Truth_Sessions/4_ATAR/'\n",
        "\n",
        "# Get a list of all files in each directory that end with .csv\n",
        "lie_4atar_files = [f for f in os.listdir(lie_4atar_path) if f.endswith('.csv')]\n",
        "truth_4atar_files = [f for f in os.listdir(truth_4atar_path) if f.endswith('.csv')]\n",
        "\n",
        "# Load the data using the getDataset function\n",
        "# Assuming getDataset(directory_path, file_list) is already defined in a previous cell\n",
        "lie_4atar_df = getDataset(lie_4atar_path, lie_4atar_files)\n",
        "truth_4atar_df = getDataset(truth_4atar_path, truth_4atar_files)\n",
        "\n",
        "# Concatenate the two Dataframes\n",
        "master_df = pd.concat([lie_4atar_df, truth_4atar_df], ignore_index=True)\n",
        "\n",
        "# Display the head and shape of the combined DataFrame\n",
        "print(\"Combined DataFrame Head:\")\n",
        "display(master_df.head())\n",
        "print(\"\\nCombined DataFrame Shape:\")\n",
        "print(master_df.shape)"
      ],
      "execution_count": null,
      "outputs": []
    },
    {
      "cell_type": "markdown",
      "metadata": {
        "id": "c39741b6"
      },
      "source": [
        "# Task\n",
        "Modify the provided Python code for creating master training and validation datasets (`createMasterTrainVal`, `getTrainValXY`, and `getMasterTrainValXY`) to work with the user's dataset structure, where data is organized into 'Lie_Sessions/4_ATAR/' and 'Truth_Sessions/4_ATAR/' directories, containing individual session CSV files (e.g., 'S1S2.csv', 'S10S1.csv'). The modified code should load data from these files, handle potential non-numeric values, and create training, validation, and test splits based on individual session files, incorporating the logic of holding out one session as a test set (`ind`), one as a validation set, and combining the rest for training. The code should also prepare the features (X) and labels (y) for each split."
      ]
    },
    {
      "cell_type": "markdown",
      "metadata": {
        "id": "c2aaae44"
      },
      "source": [
        "## Load data with session information\n",
        "\n",
        "### Subtask:\n",
        "Load data from the \"4_ATAR\" directories for both Lie and Truth sessions, adding a session file name column.\n"
      ]
    },
    {
      "cell_type": "markdown",
      "metadata": {
        "id": "54647556"
      },
      "source": [
        "**Reasoning**:\n",
        "I need to load the data from the \"4_ATAR\" directories for both Lie and Truth sessions, adding a session file name column to each DataFrame before concatenating them.\n",
        "\n"
      ]
    },
    {
      "cell_type": "code",
      "metadata": {
        "id": "69c34afc"
      },
      "source": [
        "import os\n",
        "import pandas as pd\n",
        "\n",
        "lie_4atar_path = 'drive/MyDrive/archive (5)/Lie_Sessions/4_ATAR/'\n",
        "truth_4atar_path = 'drive/MyDrive/archive (5)/Truth_Sessions/4_ATAR/'\n",
        "\n",
        "# Read all Lie session files\n",
        "lie_dfs = []\n",
        "for file_name in os.listdir(lie_4atar_path):\n",
        "    if file_name.endswith('.csv'):\n",
        "        file_path = os.path.join(lie_4atar_path, file_name)\n",
        "        try:\n",
        "            df = pd.read_csv(file_path, header=None)\n",
        "            df['session_file'] = file_name\n",
        "            lie_dfs.append(df)\n",
        "        except Exception as e:\n",
        "            print(f\"Error reading file {file_path}: {e}\")\n",
        "\n",
        "lie_df = pd.concat(lie_dfs, ignore_index=True)\n",
        "\n",
        "# Read all Truth session files\n",
        "truth_dfs = []\n",
        "for file_name in os.listdir(truth_4atar_path):\n",
        "    if file_name.endswith('.csv'):\n",
        "        file_path = os.path.join(truth_4atar_path, file_name)\n",
        "        try:\n",
        "            df = pd.read_csv(file_path, header=None)\n",
        "            df['session_file'] = file_name\n",
        "            truth_dfs.append(df)\n",
        "        except Exception as e:\n",
        "            print(f\"Error reading file {file_path}: {e}\")\n",
        "\n",
        "truth_df = pd.concat(truth_dfs, ignore_index=True)\n",
        "\n",
        "# Display DataFrames\n",
        "print(\"Lie DataFrame Head:\")\n",
        "display(lie_df.head())\n",
        "print(\"\\nLie DataFrame Shape:\", lie_df.shape)\n",
        "\n",
        "print(\"\\nTruth DataFrame Head:\")\n",
        "display(truth_df.head())\n",
        "print(\"\\nTruth DataFrame Shape:\", truth_df.shape)"
      ],
      "execution_count": null,
      "outputs": []
    },
    {
      "cell_type": "markdown",
      "metadata": {
        "id": "632473b6"
      },
      "source": [
        "**Reasoning**:\n",
        "The previous code failed because the `getDataset` function was called with a directory path as the first argument and a list containing the file name as the second argument, leading to an incorrect file path construction within the function. The `getDataset` function expects the full file path and a list of files relative to that path, but it's being used to load individual files from a directory. I need to modify the code to correctly call `getDataset` for each individual file by providing the full file path to the file as the first argument and a list containing only that file name as the second argument.\n",
        "\n"
      ]
    },
    {
      "cell_type": "code",
      "metadata": {
        "id": "be9be93f"
      },
      "source": [
        "import os\n",
        "import pandas as pd\n",
        "\n",
        "lie_4atar_path = 'drive/MyDrive/archive (5)/Lie_Sessions/4_ATAR/'\n",
        "truth_4atar_path = 'drive/MyDrive/archive (5)/Truth_Sessions/4_ATAR/'\n",
        "\n",
        "lie_dfs = []\n",
        "for file_name in os.listdir(lie_4atar_path):\n",
        "    if file_name.endswith('.csv'):\n",
        "        file_path = os.path.join(lie_4atar_path, file_name)\n",
        "        # Modify the call to getDataset to load individual files correctly\n",
        "        df = pd.read_csv(file_path, header=None)\n",
        "        df['session_file'] = file_name\n",
        "        lie_dfs.append(df)\n",
        "\n",
        "lie_df = pd.concat(lie_dfs, ignore_index=True)\n",
        "\n",
        "truth_dfs = []\n",
        "for file_name in os.listdir(truth_4atar_path):\n",
        "    if file_name.endswith('.csv'):\n",
        "        file_path = os.path.join(truth_4atar_path, file_name)\n",
        "        # Modify the call to getDataset to load individual files correctly\n",
        "        df = pd.read_csv(file_path, header=None)\n",
        "        df['session_file'] = file_name\n",
        "        truth_dfs.append(df)\n",
        "\n",
        "truth_df = pd.concat(truth_dfs, ignore_index=True)\n",
        "\n",
        "print(\"Lie DataFrame Head:\")\n",
        "display(lie_df.head())\n",
        "print(\"\\nLie DataFrame Shape:\", lie_df.shape)\n",
        "print(\"\\nTruth DataFrame Head:\")\n",
        "display(truth_df.head())\n",
        "print(\"\\nTruth DataFrame Shape:\", truth_df.shape)"
      ],
      "execution_count": null,
      "outputs": []
    },
    {
      "cell_type": "markdown",
      "metadata": {
        "id": "cc3410e9"
      },
      "source": [
        "**Reasoning**:\n",
        "The data for Lie and Truth sessions has been loaded and concatenated, and the session file name column has been added. The next step is to add the 'target' column to distinguish between Lie (0) and Truth (1) sessions, which is necessary for the subsequent steps of creating training and validation datasets for classification.\n",
        "\n"
      ]
    },
    {
      "cell_type": "code",
      "metadata": {
        "id": "79c3bd81"
      },
      "source": [
        "# Add the 'target' column to the DataFrames\n",
        "lie_df['target'] = 0\n",
        "truth_df['target'] = 1\n",
        "\n",
        "# Display the head and tail of the DataFrames to verify the target column\n",
        "print(\"Lie DataFrame Head with Target:\")\n",
        "display(lie_df.head())\n",
        "print(\"\\nLie DataFrame Tail with Target:\")\n",
        "display(lie_df.tail())\n",
        "print(\"\\nValue counts for the Lie DataFrame target column:\")\n",
        "print(lie_df['target'].value_counts())\n",
        "\n",
        "print(\"\\nTruth DataFrame Head with Target:\")\n",
        "display(truth_df.head())\n",
        "print(\"\\nTruth DataFrame Tail with Target:\")\n",
        "display(truth_df.tail())\n",
        "print(\"\\nValue counts for the Truth DataFrame target column:\")\n",
        "print(truth_df['target'].value_counts())"
      ],
      "execution_count": null,
      "outputs": []
    },
    {
      "cell_type": "markdown",
      "metadata": {
        "id": "263dce90"
      },
      "source": [
        "**Reasoning**:\n",
        "The Lie and Truth DataFrames have been successfully loaded with session file information and target labels. The next step is to combine these two DataFrames into a single master DataFrame to prepare for splitting into training, validation, and test sets based on session files.\n",
        "\n"
      ]
    },
    {
      "cell_type": "code",
      "metadata": {
        "id": "1283e20a"
      },
      "source": [
        "# Concatenate the Lie and Truth DataFrames into a single master DataFrame\n",
        "master_df = pd.concat([lie_df, truth_df], ignore_index=True)\n",
        "\n",
        "# Display the head and shape of the combined master DataFrame\n",
        "print(\"Master DataFrame Head:\")\n",
        "display(master_df.head())\n",
        "print(\"\\nMaster DataFrame Shape:\")\n",
        "print(master_df.shape)\n",
        "print(\"\\nValue counts for the master DataFrame target column:\")\n",
        "print(master_df['target'].value_counts())"
      ],
      "execution_count": null,
      "outputs": []
    },
    {
      "cell_type": "markdown",
      "metadata": {
        "id": "1a7a3378"
      },
      "source": [
        "## Handle non-numeric data and header row\n",
        "\n",
        "### Subtask:\n",
        "Convert feature columns to numeric and remove any rows with non-numeric values (including the header row).\n"
      ]
    },
    {
      "cell_type": "markdown",
      "metadata": {
        "id": "760a3900"
      },
      "source": [
        "**Reasoning**:\n",
        "Identify and remove the header row, then convert the feature columns to numeric, coercing errors to NaN, and finally drop rows with NaN values.\n",
        "\n"
      ]
    },
    {
      "cell_type": "code",
      "metadata": {
        "id": "f6fc335a"
      },
      "source": [
        "# Identify the header row\n",
        "header_row = master_df[master_df[0] == 'EEG.AF3']\n",
        "\n",
        "# Remove the header row\n",
        "master_df = master_df.drop(header_row.index)\n",
        "\n",
        "# Convert feature columns to numeric, coercing errors to NaN\n",
        "feature_columns = [col for col in master_df.columns if col not in ['session_file', 'target']]\n",
        "for col in feature_columns:\n",
        "    master_df[col] = pd.to_numeric(master_df[col], errors='coerce')\n",
        "\n",
        "# Drop rows with NaN values\n",
        "master_df.dropna(inplace=True)\n",
        "\n",
        "# Display the head and data types of the cleaned master_df\n",
        "print(\"Cleaned Master DataFrame Head:\")\n",
        "display(master_df.head())\n",
        "print(\"\\nCleaned Master DataFrame Data Types:\")\n",
        "print(master_df.dtypes)"
      ],
      "execution_count": null,
      "outputs": []
    },
    {
      "cell_type": "markdown",
      "metadata": {
        "id": "274b36ff"
      },
      "source": [
        "## Define cross-validation strategy\n",
        "\n",
        "### Subtask:\n",
        "Determine how to group the data for cross-validation folds, specifically by individual session file.\n"
      ]
    },
    {
      "cell_type": "markdown",
      "metadata": {
        "id": "f14e861f"
      },
      "source": [
        "**Reasoning**:\n",
        "Identify the unique session file names in the 'session_file' column to define the groups for cross-validation.\n",
        "\n"
      ]
    },
    {
      "cell_type": "code",
      "metadata": {
        "id": "7b28b1fa"
      },
      "source": [
        "# Identify unique session file names\n",
        "unique_session_files = master_df['session_file'].unique().tolist()\n",
        "\n",
        "# Print the number of unique session files\n",
        "print(f\"Number of unique session files: {len(unique_session_files)}\")\n",
        "\n",
        "# Print the first few unique session file names\n",
        "print(\"First 10 unique session files:\")\n",
        "print(unique_session_files[:10])"
      ],
      "execution_count": null,
      "outputs": []
    },
    {
      "cell_type": "markdown",
      "metadata": {
        "id": "6a966b08"
      },
      "source": [
        "## Implement cross-validation split\n",
        "\n",
        "### Subtask:\n",
        "Implement cross-validation by iterating through the unique session files. In each iteration, one session will be held out as the test set, another as the validation set, and the remaining sessions will form the training set.\n"
      ]
    },
    {
      "cell_type": "markdown",
      "metadata": {
        "id": "52694268"
      },
      "source": [
        "**Reasoning**:\n",
        "Iterate through the unique session files to create training, validation, and test sets for each fold of cross-validation and print the shapes of the resulting dataframes.\n",
        "\n"
      ]
    },
    {
      "cell_type": "code",
      "metadata": {
        "id": "0ba9faf6"
      },
      "source": [
        "import numpy as np\n",
        "\n",
        "# Iterate through the unique session files for cross-validation\n",
        "for i, test_session_file in enumerate(unique_session_files):\n",
        "    print(f\"\\n--- Cross-validation Fold {i+1} ---\")\n",
        "\n",
        "    # Select the test set\n",
        "    test_df = master_df[master_df['session_file'] == test_session_file]\n",
        "\n",
        "    # Select the validation set (using the next file in a circular manner)\n",
        "    val_session_index = (i + 1) % len(unique_session_files)\n",
        "    val_session_file = unique_session_files[val_session_index]\n",
        "    val_df = master_df[master_df['session_file'] == val_session_file]\n",
        "\n",
        "    # Select the training set (all files except test and validation)\n",
        "    train_session_files = [f for f in unique_session_files if f != test_session_file and f != val_session_file]\n",
        "    train_df = master_df[master_df['session_file'].isin(train_session_files)]\n",
        "\n",
        "    # Print the shapes of the splits\n",
        "    print(f\"Train set shape: {train_df.shape}\")\n",
        "    print(f\"Validation set shape: {val_df.shape}\")\n",
        "    print(f\"Test set shape: {test_df.shape}\")"
      ],
      "execution_count": null,
      "outputs": []
    },
    {
      "cell_type": "markdown",
      "metadata": {
        "id": "ce4db9c1"
      },
      "source": [
        "## Separate features and labels for each split\n",
        "\n",
        "### Subtask:\n",
        "For each training, validation, and test split created in the previous step, separate the features (X) and labels (y).\n"
      ]
    },
    {
      "cell_type": "markdown",
      "metadata": {
        "id": "e83459e7"
      },
      "source": [
        "**Reasoning**:\n",
        "Separate features (X) and labels (y) for the training, validation, and test sets within the cross-validation loop.\n",
        "\n"
      ]
    },
    {
      "cell_type": "code",
      "metadata": {
        "id": "74eb8f52"
      },
      "source": [
        "# Iterate through the unique session files for cross-validation\n",
        "for i, test_session_file in enumerate(unique_session_files):\n",
        "    print(f\"\\n--- Cross-validation Fold {i+1} ---\")\n",
        "\n",
        "    # Select the test set\n",
        "    test_df = master_df[master_df['session_file'] == test_session_file]\n",
        "\n",
        "    # Select the validation set (using the next file in a circular manner)\n",
        "    val_session_index = (i + 1) % len(unique_session_files)\n",
        "    val_session_file = unique_session_files[val_session_index]\n",
        "    val_df = master_df[master_df['session_file'] == val_session_file]\n",
        "\n",
        "    # Select the training set (all files except test and validation)\n",
        "    train_session_files = [f for f in unique_session_files if f != test_session_file and f != val_session_file]\n",
        "    train_df = master_df[master_df['session_file'].isin(train_session_files)]\n",
        "\n",
        "    # Separate features (X) and labels (y) for each split\n",
        "    df_trainX = train_df.drop(['session_file', 'target'], axis=1)\n",
        "    df_trainY = train_df['target']\n",
        "\n",
        "    df_valX = val_df.drop(['session_file', 'target'], axis=1)\n",
        "    df_valY = val_df['target']\n",
        "\n",
        "    df_testX = test_df.drop(['session_file', 'target'], axis=1)\n",
        "    df_testY = test_df['target']\n",
        "\n",
        "    # Print the shapes of the feature and label splits\n",
        "    print(f\"Train set shapes: X={df_trainX.shape}, y={df_trainY.shape}\")\n",
        "    print(f\"Validation set shapes: X={df_valX.shape}, y={df_valY.shape}\")\n",
        "    print(f\"Test set shapes: X={df_testX.shape}, y={df_testY.shape}\")\n",
        "\n",
        "    # You would typically train and evaluate models here using df_trainX, df_trainY, df_valX, df_valY, df_testX, and df_testY\n",
        "    # For this subtask, we just need to ensure the splits are created correctly.\n",
        "\n",
        "    # Break after the first fold for demonstration purposes if needed, or remove for full cross-validation\n",
        "    # break"
      ],
      "execution_count": null,
      "outputs": []
    },
    {
      "cell_type": "markdown",
      "metadata": {
        "id": "51c68161"
      },
      "source": [
        "## Train and evaluate models\n",
        "\n",
        "### Subtask:\n",
        "Train and evaluate various classification models on each cross-validation fold using the userModel function and store the evaluation metrics.\n"
      ]
    },
    {
      "cell_type": "markdown",
      "metadata": {
        "id": "e37608d6"
      },
      "source": [
        "**Reasoning**:\n",
        "Train and evaluate the specified classification models on each cross-validation fold using the userModel function and store the evaluation metrics.\n",
        "\n"
      ]
    },
    {
      "cell_type": "code",
      "source": [
        "# Check which unique session files result in empty dataframes after cleaning\n",
        "sessions_with_data = []\n",
        "sessions_without_data = []\n",
        "\n",
        "for session_file in unique_session_files:\n",
        "    session_df = master_df[master_df['session_file'] == session_file]\n",
        "    if not session_df.empty:\n",
        "        sessions_with_data.append(session_file)\n",
        "    else:\n",
        "        sessions_without_data.append(session_file)\n",
        "\n",
        "print(f\"Number of unique session files with data: {len(sessions_with_data)}\")\n",
        "print(f\"Number of unique session files without data: {len(sessions_without_data)}\")\n",
        "\n",
        "if sessions_without_data:\n",
        "    print(\"\\nSession files without data:\")\n",
        "    for session_file in sessions_without_data:\n",
        "        print(session_file)\n",
        "\n",
        "# Update unique_session_files to only include sessions with data\n",
        "unique_session_files = sessions_with_data\n",
        "\n",
        "print(f\"\\nUpdated number of unique session files for cross-validation: {len(unique_session_files)}\")"
      ],
      "metadata": {
        "id": "Isi-L0A7mwH0"
      },
      "execution_count": null,
      "outputs": []
    },
    {
      "cell_type": "code",
      "metadata": {
        "id": "836d0a04"
      },
      "source": [
        "# Initialize dictionaries to store metrics for each model across all folds\n",
        "model_accuracies = {\n",
        "    'SVM': [],\n",
        "    'Logistic Regression': [],\n",
        "    'KNN': [],\n",
        "    'Decision Tree': [],\n",
        "    'Random Forest': [],\n",
        "    'Boosting Trees': []\n",
        "}\n",
        "\n",
        "model_f_measures = {\n",
        "    'SVM': [],\n",
        "    'Logistic Regression': [],\n",
        "    'KNN': [],\n",
        "    'Decision Tree': [],\n",
        "    'Random Forest': [],\n",
        "    'Boosting Trees': []\n",
        "}\n",
        "\n",
        "model_sensitivities = {\n",
        "    'SVM': [],\n",
        "    'Logistic Regression': [],\n",
        "    'KNN': [],\n",
        "    'Decision Tree': [],\n",
        "    'Random Forest': [],\n",
        "    'Boosting Trees': []\n",
        "}\n",
        "\n",
        "model_specificities = {\n",
        "    'SVM': [],\n",
        "    'Logistic Regression': [],\n",
        "    'KNN': [],\n",
        "    'Decision Tree': [],\n",
        "    'Random Forest': [],\n",
        "    'Boosting Trees': []\n",
        "}\n",
        "\n",
        "num_sessions = len(unique_session_files)\n",
        "\n",
        "# Ensure there are enough sessions for at least one train, one validation, and one test set\n",
        "if num_sessions < 3:\n",
        "    print(\"Not enough unique session files for cross-validation (requires at least 3).\")\n",
        "else:\n",
        "    for i in range(num_sessions):\n",
        "        print(f\"\\n--- Cross-validation Fold {i+1} ---\")\n",
        "\n",
        "        # Select the test set (hold out one session)\n",
        "        test_session_file = unique_session_files[i]\n",
        "        test_df = master_df[master_df['session_file'] == test_session_file]\n",
        "\n",
        "        # Select the validation set (hold out another session, ensuring it's not the test set)\n",
        "        val_session_index = (i + 1) % num_sessions\n",
        "        val_session_file = unique_session_files[val_session_index]\n",
        "        # Ensure validation file is not the same as test file in case of small number of sessions\n",
        "        if val_session_file == test_session_file:\n",
        "             val_session_index = (i + 2) % num_sessions\n",
        "             val_session_file = unique_session_files[val_session_index]\n",
        "\n",
        "\n",
        "        val_df = master_df[master_df['session_file'] == val_session_file]\n",
        "\n",
        "\n",
        "        # Select the training set (all other sessions)\n",
        "        train_session_files = [f for f in unique_session_files if f != test_session_file and f != val_session_file]\n",
        "        train_df = master_df[master_df['session_file'].isin(train_session_files)]\n",
        "\n",
        "\n",
        "        df_trainX = train_df.drop(['session_file', 'target'], axis=1)\n",
        "        df_trainY = train_df['target']\n",
        "\n",
        "        df_valX = val_df.drop(['session_file', 'target'], axis=1)\n",
        "        df_valY = val_df['target']\n",
        "\n",
        "        df_testX = test_df.drop(['session_file', 'target'], axis=1)\n",
        "        df_testY = test_df['target']\n",
        "\n",
        "        # Add check for zero samples in the feature sets\n",
        "        if df_trainX.shape[0] == 0 or df_testX.shape[0] == 0 or df_valX.shape[0] == 0:\n",
        "            print(f\"Skipping Fold {i+1} due to zero samples in training, validation, or test set after separation.\")\n",
        "            continue\n",
        "\n",
        "        # Print the shapes of the feature and label splits right before training\n",
        "        print(f\"Shapes before training - TrainX: {df_trainX.shape}, TrainY: {df_trainY.shape}, ValX: {df_valX.shape}, ValY: {df_valY.shape}, TestX: {df_testX.shape}, TestY: {df_testY.shape}\")\n",
        "\n",
        "\n",
        "        classifiers = [\n",
        "            ('SVM', svm.SVC()),\n",
        "            ('Logistic Regression', LogisticRegression(solver='liblinear')),\n",
        "            ('KNN', KNeighborsClassifier()),\n",
        "            ('Decision Tree', DecisionTreeClassifier()),\n",
        "            ('Random Forest', RandomForestClassifier()),\n",
        "            ('Boosting Trees', GradientBoostingClassifier())\n",
        "        ]\n",
        "\n",
        "        for name, classifier in classifiers:\n",
        "            print(f\"\\nTraining and evaluating {name}...\")\n",
        "            acc, f_measure, sensitivity, specificity = getVotingClassifierMetrics(df_testY, classifier.fit(df_trainX, df_trainY).predict(df_testX))\n",
        "\n",
        "            model_accuracies[name].append(acc)\n",
        "            model_f_measures[name].append(f_measure)\n",
        "            model_sensitivities[name].append(sensitivity)\n",
        "            model_specificities[name].append(specificity)"
      ],
      "execution_count": null,
      "outputs": []
    },
    {
      "cell_type": "markdown",
      "metadata": {
        "id": "3d7dc23d"
      },
      "source": [
        "**Reasoning**:\n",
        "The previous command started the cross-validation loop and began training the SVM model for the first fold. The next step is to continue with the training and evaluation of the remaining models within the first fold and then proceed to the subsequent folds, storing the metrics as planned.\n",
        "\n"
      ]
    },
    {
      "cell_type": "code",
      "metadata": {
        "id": "b63964ea"
      },
      "source": [
        "import os\n",
        "import pandas as pd\n",
        "\n",
        "lie_4atar_path = 'drive/MyDrive/archive (5)/Lie_Sessions/4_ATAR/'\n",
        "truth_4atar_path = 'drive/MyDrive/archive (5)/Truth_Sessions/4_ATAR/'\n",
        "\n",
        "lie_dfs = []\n",
        "for file_name in os.listdir(lie_4atar_path):\n",
        "    if file_name.endswith('.csv'):\n",
        "        file_path = os.path.join(lie_4atar_path, file_name)\n",
        "        # Correctly use pd.read_csv to load individual files\n",
        "        try:\n",
        "            df = pd.read_csv(file_path, header=None)\n",
        "            df['session_file'] = file_name\n",
        "            lie_dfs.append(df)\n",
        "        except Exception as e:\n",
        "            print(f\"Error reading file {file_path}: {e}\")\n",
        "\n",
        "\n",
        "lie_df = pd.concat(lie_dfs, ignore_index=True)\n",
        "\n",
        "truth_dfs = []\n",
        "for file_name in os.listdir(truth_4atar_path):\n",
        "    if file_name.endswith('.csv'):\n",
        "        file_path = os.path.join(truth_4atar_path, file_name)\n",
        "        # Correctly use pd.read_csv to load individual files\n",
        "        try:\n",
        "            df = pd.read_csv(file_path, header=None)\n",
        "            df['session_file'] = file_name\n",
        "            truth_dfs.append(df)\n",
        "        except Exception as e:\n",
        "            print(f\"Error reading file {file_path}: {e}\")\n",
        "\n",
        "\n",
        "truth_df = pd.concat(truth_dfs, ignore_index=True)\n",
        "\n",
        "print(\"Lie DataFrame Head:\")\n",
        "display(lie_df.head())\n",
        "print(\"\\nLie DataFrame Shape:\", lie_df.shape)\n",
        "print(\"\\nTruth DataFrame Head:\")\n",
        "display(truth_df.head())\n",
        "print(\"\\nTruth DataFrame Shape:\", truth_df.shape)"
      ],
      "execution_count": null,
      "outputs": []
    }
  ]
}